{
 "cells": [
  {
   "cell_type": "markdown",
   "id": "9abf7ed7",
   "metadata": {},
   "source": [
    "## Case 1 - Deterministic\n",
    "## Case 2 - DRO opt w/o $\\gamma$\n",
    "## Case 3 - DRO opt w $\\gamma$\n",
    "## Case 4 - DRO opt w DRJCC\n",
    "## Case 5 - DRO opt DRJCC with ESS reserve\n",
    "## Case 6 - DRO opt DRJCC with ESS reserve but without revenue\n",
    "### Author: Junhyeok Kim"
   ]
  },
  {
   "cell_type": "code",
   "execution_count": 1,
   "id": "6df73fc2",
   "metadata": {},
   "outputs": [],
   "source": [
    "# Import the library\n",
    "\n",
    "import os\n",
    "import pandas as pd\n",
    "import numpy as np\n",
    "import sys\n",
    "import time\n",
    "\n",
    "import matplotlib.pyplot as plt\n",
    "np.set_printoptions(formatter={'float': '{: 0.6f}'.format})"
   ]
  },
  {
   "cell_type": "code",
   "execution_count": 2,
   "id": "73cc0214",
   "metadata": {},
   "outputs": [],
   "source": [
    "# Define the Variables\n",
    "BASE_DIR = os.getcwd()\n",
    "os.chdir(\"../\")\n",
    "path = os.getcwd() \n",
    "sys.path.append(path) # 폴더 한 단계 위에서 file import 하기 위해서 sys path 설정\n",
    "sys.path.append(f\"{path}/src\")\n",
    "sys.path.append(f\"{path}/src/Data_Generation\")\n",
    "\n",
    "from rts_data import generate_wind, generate_gen_dict\n",
    "from aggregator import aggregator\n",
    "from gurobiMILP import gurobi_MILP, oos_test\n",
    "from draw_fig import Single_Case_Plot\n",
    "from different_approach import gurobi_simulation"
   ]
  },
  {
   "cell_type": "code",
   "execution_count": 3,
   "id": "e99ab94a",
   "metadata": {},
   "outputs": [],
   "source": [
    "### Parameters\n",
    "DRO_param = {'eps_joint_cvar' : 0.05}\n",
    "DRO_param['theta'] = 0.05\n",
    "\n",
    "# Vector for Bonferroni approximation\n",
    "rho_vectorC = np.linspace(0, 0.0025, 26)\n",
    "\n",
    "# Number of individual runs (number of coupled datasets in the numerical study)\n",
    "\n",
    "IR_max = 100\n",
    "\n",
    "\n",
    "# Number of maximum sample size (N)\n",
    "\n",
    "N_max = 1000\n",
    "\n",
    "# Number of maximum out of sample data for each individual run (N') for testing\n",
    "# dataset\n",
    "OOS_max = 1000\n",
    "\n",
    "# Number of sample data in training dataset (N)\n",
    "\n",
    "N = 100;\n",
    "\n",
    "\n",
    "# Total number of data \n",
    "\n",
    "n_total_scen = IR_max * (N_max + OOS_max)"
   ]
  },
  {
   "cell_type": "code",
   "execution_count": 4,
   "id": "2d661e61",
   "metadata": {},
   "outputs": [],
   "source": [
    "# Define the Parameters\n",
    "\n",
    "# case_dict: Generate various scenario\n",
    "# res_var: Define the WT and PV as variables [True] or parameters [False]\n",
    "# case:\n",
    "    # case 1 : w/o uncertainty\n",
    "    # case 2 : w uncertainty with DRO\n",
    "    #UNIT_TIME: 1 -> 1 hour\n",
    "    \n",
    "case_dict = {'case':6, 'UNIT_TIME': 1, 'bid_type':'deterministic', 'n_total_scen': n_total_scen, 'N_max': N_max, 'OOS_max':OOS_max,\n",
    "             'IR_max': IR_max, 'N': N, 'divide_factor': 1}\n",
    "\n",
    "case_dict['date'] = '20220911'\n",
    "\n",
    "nTimeslot = int(24 / case_dict['UNIT_TIME'])\n",
    "char_ess = {'initSOC':0.5, 'termSOC':0.5, 'minSOC':0.2, 'maxSOC':0.8, 'efficiency':0.95}\n",
    "\n",
    "\n",
    "model_dict = {'nVPP':1, 'path': path, 'N_PIECE': 10, 'nTimeslot': nTimeslot}\n",
    "\n",
    "# Once, set te PV, WT, SMP uncertainties identically in each time (PV: 5%, WT: 10%, SMP: 10%)\n",
    "uncertainty_dict = {'pv': np.ones(nTimeslot)*0.10 , 'wt': np.ones(nTimeslot)*0.10, 'smp':np.ones(nTimeslot)*0.10}\n",
    "\n",
    "\n",
    "if case_dict['case']==2:\n",
    "    \n",
    "    model_dict['uncertainty'] = uncertainty_dict\n",
    "    case_dict['bid_type'] = 'risky'\n",
    "    \n",
    "elif case_dict['case'] == 1:\n",
    "    \n",
    "    uncertainty_dict = {'pv': np.zeros(nTimeslot), 'wt': np.zeros(nTimeslot), 'smp':np.zeros(nTimeslot)}\n",
    "    model_dict['uncertainty'] = uncertainty_dict\n",
    "    "
   ]
  },
  {
   "cell_type": "code",
   "execution_count": 5,
   "id": "b1e932cb",
   "metadata": {},
   "outputs": [
    {
     "name": "stdout",
     "output_type": "stream",
     "text": [
      "Error\n",
      "'aggregator' object has no attribute 'wt_uncert'\n",
      "Aggregator set_res_table method\n",
      "Uncertainty does not exist\n"
     ]
    },
    {
     "data": {
      "text/html": [
       "<div>\n",
       "<style scoped>\n",
       "    .dataframe tbody tr th:only-of-type {\n",
       "        vertical-align: middle;\n",
       "    }\n",
       "\n",
       "    .dataframe tbody tr th {\n",
       "        vertical-align: top;\n",
       "    }\n",
       "\n",
       "    .dataframe thead th {\n",
       "        text-align: right;\n",
       "    }\n",
       "</style>\n",
       "<table border=\"1\" class=\"dataframe\">\n",
       "  <thead>\n",
       "    <tr style=\"text-align: right;\">\n",
       "      <th></th>\n",
       "      <th>name</th>\n",
       "      <th>type</th>\n",
       "      <th>number</th>\n",
       "      <th>min_power</th>\n",
       "      <th>max_power</th>\n",
       "      <th>capacity</th>\n",
       "    </tr>\n",
       "  </thead>\n",
       "  <tbody>\n",
       "    <tr>\n",
       "      <th>0</th>\n",
       "      <td>WT1_cvpp1</td>\n",
       "      <td>WT</td>\n",
       "      <td>1</td>\n",
       "      <td>0.0</td>\n",
       "      <td>800</td>\n",
       "      <td>NaN</td>\n",
       "    </tr>\n",
       "    <tr>\n",
       "      <th>1</th>\n",
       "      <td>WT2_cvpp1</td>\n",
       "      <td>WT</td>\n",
       "      <td>2</td>\n",
       "      <td>0.0</td>\n",
       "      <td>700</td>\n",
       "      <td>NaN</td>\n",
       "    </tr>\n",
       "    <tr>\n",
       "      <th>2</th>\n",
       "      <td>WT3_cvpp1</td>\n",
       "      <td>WT</td>\n",
       "      <td>3</td>\n",
       "      <td>0.0</td>\n",
       "      <td>900</td>\n",
       "      <td>NaN</td>\n",
       "    </tr>\n",
       "    <tr>\n",
       "      <th>3</th>\n",
       "      <td>WT4_cvpp1</td>\n",
       "      <td>WT</td>\n",
       "      <td>4</td>\n",
       "      <td>0.0</td>\n",
       "      <td>1000</td>\n",
       "      <td>NaN</td>\n",
       "    </tr>\n",
       "    <tr>\n",
       "      <th>4</th>\n",
       "      <td>PV5_cvpp1</td>\n",
       "      <td>PV</td>\n",
       "      <td>5</td>\n",
       "      <td>0.0</td>\n",
       "      <td>500</td>\n",
       "      <td>NaN</td>\n",
       "    </tr>\n",
       "    <tr>\n",
       "      <th>5</th>\n",
       "      <td>PV6_cvpp1</td>\n",
       "      <td>PV</td>\n",
       "      <td>6</td>\n",
       "      <td>0.0</td>\n",
       "      <td>750</td>\n",
       "      <td>NaN</td>\n",
       "    </tr>\n",
       "    <tr>\n",
       "      <th>6</th>\n",
       "      <td>ESS7_cvpp1</td>\n",
       "      <td>ESS</td>\n",
       "      <td>7</td>\n",
       "      <td>-300.0</td>\n",
       "      <td>300</td>\n",
       "      <td>1500.0</td>\n",
       "    </tr>\n",
       "    <tr>\n",
       "      <th>7</th>\n",
       "      <td>DG8_cvpp1</td>\n",
       "      <td>DG</td>\n",
       "      <td>8</td>\n",
       "      <td>30.0</td>\n",
       "      <td>300</td>\n",
       "      <td>NaN</td>\n",
       "    </tr>\n",
       "    <tr>\n",
       "      <th>8</th>\n",
       "      <td>DG9_cvpp1</td>\n",
       "      <td>DG</td>\n",
       "      <td>9</td>\n",
       "      <td>40.0</td>\n",
       "      <td>400</td>\n",
       "      <td>NaN</td>\n",
       "    </tr>\n",
       "  </tbody>\n",
       "</table>\n",
       "</div>"
      ],
      "text/plain": [
       "         name type  number  min_power  max_power  capacity\n",
       "0   WT1_cvpp1   WT       1        0.0        800       NaN\n",
       "1   WT2_cvpp1   WT       2        0.0        700       NaN\n",
       "2   WT3_cvpp1   WT       3        0.0        900       NaN\n",
       "3   WT4_cvpp1   WT       4        0.0       1000       NaN\n",
       "4   PV5_cvpp1   PV       5        0.0        500       NaN\n",
       "5   PV6_cvpp1   PV       6        0.0        750       NaN\n",
       "6  ESS7_cvpp1  ESS       7     -300.0        300    1500.0\n",
       "7   DG8_cvpp1   DG       8       30.0        300       NaN\n",
       "8   DG9_cvpp1   DG       9       40.0        400       NaN"
      ]
     },
     "execution_count": 5,
     "metadata": {},
     "output_type": "execute_result"
    }
   ],
   "source": [
    "# Set Up VPP  #Unit: kW\n",
    "\n",
    "vpp_list = []\n",
    "for i in range(model_dict['nVPP']):\n",
    "    nGen_dict = {'WT':4,'PV':2, 'ESS':1, 'DG':2}\n",
    "    wt_list = [800, 700, 900, 1000]\n",
    "    pv_list = [500, 750, 500, 700]\n",
    "    ess_list = [300]\n",
    "    capacity_list = [1500]\n",
    "    dg_list = [300, 400, 900]\n",
    "    max_list = [wt_list, pv_list, ess_list, capacity_list, dg_list]\n",
    "    \n",
    "    dg_dict_list = []\n",
    "    for j in range(nGen_dict['DG']):\n",
    "        dg_dict_list.append(generate_gen_dict(j,dg_list[j], model_dict))\n",
    "    model_dict['dg_dict_list'] = dg_dict_list\n",
    "    \n",
    "    agg_dict = {'name': f'cvpp{i+1}', 'code': f'xds{i+1}', 'gen':nGen_dict}\n",
    "    vpp_list.append(aggregator(agg_dict, char_ess, model_dict, case_dict))\n",
    "    vpp_list[i].set_der_power(max_list)\n",
    "    vpp_list[i].set_smp_data(case_dict['date'])\n",
    "    vpp_list[i].set_profile(case_dict['N'],0)\n",
    "vpp_list[0].get_res_table()"
   ]
  },
  {
   "cell_type": "code",
   "execution_count": 11,
   "id": "033235cb",
   "metadata": {},
   "outputs": [
    {
     "data": {
      "text/plain": [
       "-165.6886833981855"
      ]
     },
     "execution_count": 11,
     "metadata": {},
     "output_type": "execute_result"
    }
   ],
   "source": [
    "vpp_list[0].res_list[0].profile_xi[0,0]"
   ]
  },
  {
   "cell_type": "code",
   "execution_count": null,
   "id": "82654f93",
   "metadata": {},
   "outputs": [],
   "source": []
  },
  {
   "cell_type": "code",
   "execution_count": 15,
   "id": "3c3ab2e5",
   "metadata": {},
   "outputs": [
    {
     "name": "stdout",
     "output_type": "stream",
     "text": [
      "Does not Cosidered alpha\n",
      "Add Bid Constraint\n",
      "start set_dro_obj_constriants\n"
     ]
    },
    {
     "ename": "IndexError",
     "evalue": "index 50 is out of bounds for axis 0 with size 50",
     "output_type": "error",
     "traceback": [
      "\u001b[1;31m---------------------------------------------------------------------------\u001b[0m",
      "\u001b[1;31mIndexError\u001b[0m                                Traceback (most recent call last)",
      "Cell \u001b[1;32mIn[15], line 50\u001b[0m\n\u001b[0;32m     47\u001b[0m case_dict[\u001b[38;5;124m'\u001b[39m\u001b[38;5;124mcase\u001b[39m\u001b[38;5;124m'\u001b[39m] \u001b[38;5;241m=\u001b[39m \u001b[38;5;124m'\u001b[39m\u001b[38;5;124mmomentDRO\u001b[39m\u001b[38;5;124m'\u001b[39m\n\u001b[0;32m     48\u001b[0m \u001b[38;5;66;03m#opt_bid_momentDRO = gurobi_simulation('opt bid_momentDRO', vpp_list[0], model_dict, case_dict)\u001b[39;00m\n\u001b[1;32m---> 50\u001b[0m sol_WDRCC, obj_dict_WDRCC, P_dict_WDRCC, U_dict_WDRCC, slack_dict_WDRCC \u001b[38;5;241m=\u001b[39m \u001b[43mopt_bid_WDRCC\u001b[49m\u001b[38;5;241;43m.\u001b[39;49m\u001b[43moptimize\u001b[49m\u001b[43m(\u001b[49m\u001b[43mmip_gap\u001b[49m\u001b[43m,\u001b[49m\u001b[43m \u001b[49m\u001b[43mfeas_tol\u001b[49m\u001b[43m)\u001b[49m\n\u001b[0;32m     51\u001b[0m sol_SAA, obj_dict_SAA, P_dict_SAA, U_dict_SAA, slack_dict_SAA \u001b[38;5;241m=\u001b[39m opt_bid_SAA\u001b[38;5;241m.\u001b[39moptimize(mip_gap, feas_tol)    \n\u001b[0;32m     52\u001b[0m sol_robust, obj_dict_robust, P_dict_robust, U_dict_robust, slack_dict_robust \u001b[38;5;241m=\u001b[39m opt_bid_robust\u001b[38;5;241m.\u001b[39moptimize(mip_gap, feas_tol)\n",
      "File \u001b[1;32m~\\OneDrive\\1. CODE\\IGDT-DRO-optimal-bidding-of-virtual-power-plant/src\\gurobiMILP.py:1004\u001b[0m, in \u001b[0;36mgurobi_MILP.optimize\u001b[1;34m(self, mip_gap, feas_tol)\u001b[0m\n\u001b[0;32m   1000\u001b[0m \u001b[38;5;66;03m# self.add_igdt_constraints()\u001b[39;00m\n\u001b[0;32m   1003\u001b[0m \u001b[38;5;28;01mif\u001b[39;00m \u001b[38;5;28mself\u001b[39m\u001b[38;5;241m.\u001b[39mis_bid_DRO:\n\u001b[1;32m-> 1004\u001b[0m     \u001b[38;5;28;43mself\u001b[39;49m\u001b[38;5;241;43m.\u001b[39;49m\u001b[43mset_DRO_obj_constraints\u001b[49m\u001b[43m(\u001b[49m\u001b[43m)\u001b[49m\n\u001b[0;32m   1005\u001b[0m \u001b[38;5;28;01mif\u001b[39;00m \u001b[38;5;28mself\u001b[39m\u001b[38;5;241m.\u001b[39mis_bid_DRCC:\n\u001b[0;32m   1006\u001b[0m     \u001b[38;5;28mself\u001b[39m\u001b[38;5;241m.\u001b[39mset_DRCC_Constraint()\n",
      "File \u001b[1;32m~\\OneDrive\\1. CODE\\IGDT-DRO-optimal-bidding-of-virtual-power-plant/src\\gurobiMILP.py:455\u001b[0m, in \u001b[0;36mgurobi_MILP.set_DRO_obj_constraints\u001b[1;34m(self)\u001b[0m\n\u001b[0;32m    452\u001b[0m lhs \u001b[38;5;241m=\u001b[39m \u001b[38;5;241m0\u001b[39m\n\u001b[0;32m    453\u001b[0m \u001b[38;5;28;01mfor\u001b[39;00m i \u001b[38;5;129;01min\u001b[39;00m \u001b[38;5;28mrange\u001b[39m(\u001b[38;5;28mself\u001b[39m\u001b[38;5;241m.\u001b[39mnRES):\n\u001b[1;32m--> 455\u001b[0m     xi_hat \u001b[38;5;241m=\u001b[39m \u001b[38;5;28;43mself\u001b[39;49m\u001b[38;5;241;43m.\u001b[39;49m\u001b[43mres_list\u001b[49m\u001b[43m[\u001b[49m\u001b[43mi\u001b[49m\u001b[43m]\u001b[49m\u001b[38;5;241;43m.\u001b[39;49m\u001b[43mprofile_xi\u001b[49m\u001b[43m[\u001b[49m\u001b[43mj\u001b[49m\u001b[43m]\u001b[49m\u001b[43m[\u001b[49m\u001b[43mn\u001b[49m\u001b[43m]\u001b[49m\n\u001b[0;32m    456\u001b[0m     Wmax \u001b[38;5;241m=\u001b[39m \u001b[38;5;28mself\u001b[39m\u001b[38;5;241m.\u001b[39mres_list[i]\u001b[38;5;241m.\u001b[39mmax_power\n\u001b[0;32m    457\u001b[0m     mu_hat \u001b[38;5;241m=\u001b[39m \u001b[38;5;28mself\u001b[39m\u001b[38;5;241m.\u001b[39mres_list[i]\u001b[38;5;241m.\u001b[39mprofile_mu[j]\n",
      "\u001b[1;31mIndexError\u001b[0m: index 50 is out of bounds for axis 0 with size 50"
     ]
    }
   ],
   "source": [
    "case_dict['case'] = 2\n",
    "Wmax = vpp_list[0].wt_list[0].max_power \n",
    "Wmu = vpp_list[0].wt_list[0].profile_mu\n",
    "#case_dict['theta'] = DRO_param['theta']* Wmu\n",
    "#case_dict['theta'] = np.reshape(case_dict['theta'], -1)\n",
    "case_dict['theta'] = [DRO_param['theta']] * nTimeslot\n",
    "case_dict['eps'] = DRO_param['eps_joint_cvar']\n",
    "case_dict['beta'] = 0.1\n",
    "case_dict['alpha_max'] = 0.2\n",
    "case_dict['GRID_PIECE'] = 100\n",
    "\n",
    "OOS_sim = 100\n",
    "OOS_iter = int(OOS_max / OOS_sim)\n",
    "\n",
    "IIS_sim = 50\n",
    "IIS_iter = int(N_max/IIS_sim)\n",
    "ratio_list = []\n",
    "mip_gap = 0.0001\n",
    "feas_tol = 1e-4\n",
    "vpp = vpp_list[0]    \n",
    "\n",
    "\n",
    "total_WDRCC_result = []\n",
    "total_SAA_result = []\n",
    "total_robust_result = []\n",
    "total_moment_result = []\n",
    "total_ratio_list = []\n",
    "for i in range(IIS_iter):\n",
    "    \n",
    "    WDRCC_result = []\n",
    "    SAA_result = []\n",
    "    robust_result = []\n",
    "    moment_result = []\n",
    "    ratio_list = []\n",
    "    for j in range(IR_max):\n",
    "        N = (i+1)* IIS_sim\n",
    "        case_dict['N'] = N\n",
    "        vpp_list[0].set_profile(N,j)\n",
    "    \n",
    "        case_dict['case'] = 6\n",
    "        opt_bid_WDRCC = gurobi_MILP('opt bid_wdrcc', vpp_list[0], model_dict, case_dict)\n",
    "        \n",
    "        case_dict['case'] = 'SAA'\n",
    "        opt_bid_SAA = gurobi_simulation('opt bid_SAA', vpp_list[0], model_dict, case_dict)\n",
    "        \n",
    "        case_dict['case'] = 'robust'\n",
    "        opt_bid_robust = gurobi_simulation('opt bid_robust', vpp_list[0], model_dict, case_dict)\n",
    "        case_dict['case'] = 'momentDRO'\n",
    "        #opt_bid_momentDRO = gurobi_simulation('opt bid_momentDRO', vpp_list[0], model_dict, case_dict)\n",
    "        \n",
    "        sol_WDRCC, obj_dict_WDRCC, P_dict_WDRCC, U_dict_WDRCC, slack_dict_WDRCC = opt_bid_WDRCC.optimize(mip_gap, feas_tol)\n",
    "        sol_SAA, obj_dict_SAA, P_dict_SAA, U_dict_SAA, slack_dict_SAA = opt_bid_SAA.optimize(mip_gap, feas_tol)    \n",
    "        sol_robust, obj_dict_robust, P_dict_robust, U_dict_robust, slack_dict_robust = opt_bid_robust.optimize(mip_gap, feas_tol)\n",
    "        #sol_momentDRO, obj_dict_momentDRO, P_dict_momentDRO, U_dict_momentDRO, slack_dict_momentDRO = opt_bid_momentDRO.optimize(mip_gap, feas_tol)\n",
    "\n",
    "        WDRCC_result.append([sol_WDRCC, obj_dict_WDRCC, P_dict_WDRCC, U_dict_WDRCC, slack_dict_WDRCC, \n",
    "                             opt_bid_WDRCC.m.objVal,opt_bid_WDRCC.opt_solve_time, opt_bid_WDRCC])\n",
    "        SAA_result.append([sol_SAA, obj_dict_SAA, P_dict_SAA, U_dict_SAA, slack_dict_SAA, \n",
    "                           opt_bid_SAA.m.objVal, opt_bid_SAA.opt_solve_time,  opt_bid_SAA ])\n",
    "        robust_result.append([sol_robust, obj_dict_robust, P_dict_robust, U_dict_robust, slack_dict_robust, \n",
    "                              opt_bid_robust.m.objVal, opt_bid_robust.opt_solve_time, opt_bid_robust])\n",
    "        #moment_result.append([sol_momentDRO, obj_dict_momentDRO, P_dict_momentDRO, U_dict_momentDRO, slack_dict_momentDRO,\n",
    "        #                      opt_bid_momentDRO.m.objVal,opt_bid_momentDRO.opt_solve_time,opt_bid_momentDRO])\n",
    "        \n",
    "        ratio_wdrcc_list = []\n",
    "        ratio_SSA_list = []\n",
    "        ratio_robust_list = []\n",
    "        ratio_momentDRO_list = []\n",
    "        check_array_wdrcc_list = []\n",
    "        check_array_SSA_list = []\n",
    "        check_array_robust_list = []\n",
    "        check_array_momentDRO_list = []\n",
    "        for k in range(OOS_iter):\n",
    "            nOOS = (k+1)*OOS_sim\n",
    "            # OOS_sim\n",
    "            \n",
    "            lhs_array, rhs_array, check_wdrcc_array, ratio_wdrcc = oos_test(opt_bid_WDRCC, vpp, nOOS)\n",
    "            ratio_wdrcc_list.append(ratio_wdrcc)\n",
    "            \n",
    "            oos_lhs_array, oos_rhs_array, oos_SAA_check_array, ratio_SSA = oos_test(opt_bid_SSA, vpp, nOOS)\n",
    "            ratio_SSA_list.append(ratio_SSA)\n",
    "\n",
    "            oos_lhs_array, oos_rhs_array, oos_robust_check_array, ratio_robust = oos_test(opt_bid_robust, vpp, nOOS)\n",
    "            ratio_robust_list.append(ratio_robust)\n",
    "\n",
    "            #oos_lhs_array, oos_rhs_array, oos_momentDRO_check_array, ratio_momentDRO = oos_test(opt_bid_momentDRO, vpp, nOOS)\n",
    "            #ratio_momentDRO_list.append(ratio_momentDRO)\n",
    "            \n",
    "            check_array_wdrcc_list.append(sum(check_array))\n",
    "            check_array_SAA_list.append(sum(oos_SAA_check_array))\n",
    "            check_array_robust_list.append(sum(oos_robust_check_array))\n",
    "            #check_array_momentDRO_list.append(sum(oos_momentDRO_check_array))\n",
    "\n",
    "        ratio_list.append([ratio_wdrcc_list, ratio_SSA_list, ratio_robust_list, ratio_momentDRO_list])\n",
    "        \n",
    "        \n",
    "        \n",
    "    total_WDRCC_result.append(WDRCC_result)\n",
    "    total_SAA_result.append(SAA_result)\n",
    "    total_robust_result.append(robust_result)\n",
    "    total_moment_result.append(moment_result)\n",
    "    total_ratio_list.append(ratio_list)"
   ]
  },
  {
   "cell_type": "code",
   "execution_count": 12,
   "id": "4bc08a0d",
   "metadata": {},
   "outputs": [],
   "source": [
    "vpp_list[0].set_profile(N,j)"
   ]
  },
  {
   "cell_type": "code",
   "execution_count": 14,
   "id": "8e4ddbb4",
   "metadata": {},
   "outputs": [
    {
     "data": {
      "text/plain": [
       "(24, 50)"
      ]
     },
     "execution_count": 14,
     "metadata": {},
     "output_type": "execute_result"
    }
   ],
   "source": [
    "vpp_list[0].wt_list[0].profile_xi.shape"
   ]
  },
  {
   "cell_type": "code",
   "execution_count": null,
   "id": "a03fc81c",
   "metadata": {},
   "outputs": [],
   "source": [
    "vpp_list[0].wt_list[0].oos_profile"
   ]
  },
  {
   "cell_type": "code",
   "execution_count": null,
   "id": "101c2b82",
   "metadata": {},
   "outputs": [],
   "source": [
    "# Gurobi Optimization Model\n",
    "case_dict['case'] = 2\n",
    "Wmax = vpp_list[0].wt_list[0].max_power \n",
    "Wmu = vpp_list[0].wt_list[0].profile_mu\n",
    "#case_dict['theta'] = DRO_param['theta']* Wmu\n",
    "#case_dict['theta'] = np.reshape(case_dict['theta'], -1)\n",
    "case_dict['theta'] = [DRO_param['theta']] * nTimeslot\n",
    "case_dict['eps'] = DRO_param['eps_joint_cvar']\n",
    "case_dict['beta'] = 0.1\n",
    "case_dict['alpha_max'] = 0.2\n",
    "case_dict['GRID_PIECE'] = 100\n",
    "opt_bid_SAA = gurobi_SAA('opt bid_SAA', vpp_list[0], model_dict, case_dict)\n",
    "\n",
    "mip_gap = 0.0001\n",
    "feas_tol = 1e-4\n",
    "sol_SAA, obj_dict_SAA, P_dict_SAA, U_dict_SAA, slack_dict_SAA = opt_bid_SAA.optimize(mip_gap, feas_tol)"
   ]
  },
  {
   "cell_type": "code",
   "execution_count": null,
   "id": "44611bb2",
   "metadata": {},
   "outputs": [],
   "source": [
    "# Gurobi Optimization Model\n",
    "\n",
    "#case_dict['theta'] = np.array([0.05]*24)\n",
    "case_dict['case'] = 6\n",
    "opt_bid = gurobi_MILP('opt bid', vpp_list[0], model_dict, case_dict)\n",
    "\n",
    "mip_gap = 0.0001\n",
    "feas_tol = 1e-4\n",
    "sol, obj_dict, P_dict, U_dict, slack_dict = opt_bid.optimize(mip_gap, feas_tol)"
   ]
  },
  {
   "cell_type": "code",
   "execution_count": null,
   "id": "51e0b1d7",
   "metadata": {},
   "outputs": [],
   "source": [
    "obj1 = obj_dict['obj1']\n",
    "print(obj1)\n",
    "\n",
    "try:\n",
    "    obj2 = obj_dict['obj2']\n",
    "    obj3 = obj_dict['obj3']\n",
    "    print(obj2)\n",
    "    print(obj3)\n",
    "    \n",
    "except:\n",
    "    print(\"no obj2, obj3\")\n",
    "\n",
    "try:\n",
    "    obj3_full = obj_dict['obj3_full']\n",
    "except:\n",
    "    pass\n",
    "print(sum(obj1))\n",
    "print(sum(obj2))\n",
    "print(sum(obj3))\n",
    "\n",
    "print(sum(sum(obj_dict['dg_cost'])))\n",
    "\n",
    "print(opt_bid.m.objVal)"
   ]
  },
  {
   "cell_type": "code",
   "execution_count": null,
   "id": "7a6869fa",
   "metadata": {},
   "outputs": [],
   "source": [
    "print(P_dict['sum_dg'])\n",
    "\n",
    "if opt_bid.is_dg_reserve:\n",
    "    print(P_dict['dg_ru'])"
   ]
  },
  {
   "cell_type": "code",
   "execution_count": null,
   "id": "762234a4",
   "metadata": {
    "scrolled": true
   },
   "outputs": [],
   "source": [
    "print(P_dict['essDis'])\n",
    "print(P_dict['essChg'])\n",
    "if opt_bid.is_ess_reserve:\n",
    "    print(P_dict['RU_essdis'])\n",
    "    print(P_dict['RD_esschg'])"
   ]
  },
  {
   "cell_type": "code",
   "execution_count": null,
   "id": "65b444e5",
   "metadata": {},
   "outputs": [],
   "source": [
    "if opt_bid.is_bid_DRCC:\n",
    "    lhs_array, rhs_array, check_array, ratio = opt_bid.check_drcc_constraint()\n",
    "    print(\"Ratio is :\", ratio)\n",
    "    for i in range(24):\n",
    "        print(sum(check_array[i,:]))"
   ]
  },
  {
   "cell_type": "code",
   "execution_count": null,
   "id": "0424ce77",
   "metadata": {},
   "outputs": [],
   "source": [
    "if opt_bid.is_bid_DRCC:\n",
    "    oos_lhs_array, oos_rhs_array, oos_check_array, oos_ratio = opt_bid.oos_test()\n",
    "    print(\"Ratio is :\", oos_ratio)\n",
    "    for i in range(24):\n",
    "        print(sum(oos_check_array[i,:]))"
   ]
  },
  {
   "cell_type": "code",
   "execution_count": null,
   "id": "cc049e15",
   "metadata": {},
   "outputs": [],
   "source": [
    "oos_lhs_array1, oos_rhs_array1, oos_check_array1, oos_ratio1 = opt_bid_SAA.oos_test()\n",
    "print(\"Ratio is :\", oos_ratio1)\n",
    "for i in range(24):\n",
    "    print(sum(oos_check_array1[i,:]))"
   ]
  },
  {
   "cell_type": "code",
   "execution_count": null,
   "id": "39f05bf9",
   "metadata": {},
   "outputs": [],
   "source": [
    "opt_bid.res_list[i].oos_profile_xi.shape"
   ]
  },
  {
   "cell_type": "code",
   "execution_count": null,
   "id": "56b2f012",
   "metadata": {},
   "outputs": [],
   "source": [
    "from draw_fig import Single_Case_Plot"
   ]
  },
  {
   "cell_type": "code",
   "execution_count": null,
   "id": "176229d1",
   "metadata": {},
   "outputs": [],
   "source": [
    "case_fig = Single_Case_Plot(vpp_list, opt_bid, model_dict, case_dict, path)"
   ]
  },
  {
   "cell_type": "code",
   "execution_count": null,
   "id": "5aca2211",
   "metadata": {},
   "outputs": [],
   "source": [
    "case_fig_SAA = Single_Case_Plot(vpp_list, opt_bid_SAA, model_dict, case_dict, path)"
   ]
  },
  {
   "cell_type": "code",
   "execution_count": null,
   "id": "503e5f15",
   "metadata": {},
   "outputs": [],
   "source": [
    "case_fig_SAA.make_plot(P_dict_SAA, slack_dict_SAA, save_flag=True)"
   ]
  },
  {
   "cell_type": "code",
   "execution_count": null,
   "id": "1f35e10f",
   "metadata": {},
   "outputs": [],
   "source": [
    "if opt_bid_SAA.is_ess_reserve or opt_bid_SAA.is_dg_reserve:\n",
    "    case_fig_SAA.make_reserve_plot(P_dict_SAA, save_flag=True)"
   ]
  },
  {
   "cell_type": "code",
   "execution_count": null,
   "id": "5ecb7dfc",
   "metadata": {},
   "outputs": [],
   "source": [
    "case_fig.make_plot(P_dict, slack_dict, save_flag=True)"
   ]
  },
  {
   "cell_type": "code",
   "execution_count": null,
   "id": "84b42e4d",
   "metadata": {},
   "outputs": [],
   "source": [
    "if opt_bid.is_ess_reserve or opt_bid.is_dg_reserve:\n",
    "    case_fig.make_reserve_plot(P_dict, save_flag=True)"
   ]
  },
  {
   "cell_type": "code",
   "execution_count": null,
   "id": "adf8bba4",
   "metadata": {},
   "outputs": [],
   "source": [
    "for j in range(IR_sim):\n",
    "    print(f\"out of sample iteration: {j}\")\n",
    "    print(f\"out of sample iteration: {j}\")\n",
    "    print(f\"out of sample iteration: {j}\")\n",
    "    opt_bid_SAA = gurobi_SAA('opt bid_SAA', vpp_list[0], model_dict, case_dict)\n",
    "\n",
    "\n",
    "    sol_SAA, obj_dict_SAA, P_dict_SAA, U_dict_SAA, slack_dict_SAA = opt_bid_SAA.optimize(mip_gap, feas_tol)\n",
    "    for k in range(OOS_sim):\n",
    "        \n",
    "            "
   ]
  },
  {
   "cell_type": "code",
   "execution_count": null,
   "id": "62f2c278",
   "metadata": {},
   "outputs": [],
   "source": []
  }
 ],
 "metadata": {
  "kernelspec": {
   "display_name": "Python 3 (ipykernel)",
   "language": "python",
   "name": "python3"
  },
  "language_info": {
   "codemirror_mode": {
    "name": "ipython",
    "version": 3
   },
   "file_extension": ".py",
   "mimetype": "text/x-python",
   "name": "python",
   "nbconvert_exporter": "python",
   "pygments_lexer": "ipython3",
   "version": "3.10.9"
  }
 },
 "nbformat": 4,
 "nbformat_minor": 5
}
