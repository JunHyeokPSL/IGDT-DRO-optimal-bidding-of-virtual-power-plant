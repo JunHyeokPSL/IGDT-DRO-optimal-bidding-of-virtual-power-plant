{
 "cells": [
  {
   "cell_type": "markdown",
   "id": "9abf7ed7",
   "metadata": {},
   "source": [
    "## Case 1 - Deterministic\n",
    "## Case 2 - DRO opt w/o $\\gamma$\n",
    "## Case 3 - DRO opt w $\\gamma$\n",
    "### Author: Junhyeok Kim"
   ]
  },
  {
   "cell_type": "code",
   "execution_count": 1,
   "id": "6df73fc2",
   "metadata": {},
   "outputs": [],
   "source": [
    "# Import the library\n",
    "\n",
    "import os\n",
    "import pandas as pd\n",
    "import numpy as np\n",
    "import sys\n",
    "\n",
    "import matplotlib.pyplot as plt\n",
    "np.set_printoptions(formatter={'float': '{: 0.6f}'.format})"
   ]
  },
  {
   "cell_type": "code",
   "execution_count": 2,
   "id": "73cc0214",
   "metadata": {},
   "outputs": [],
   "source": [
    "# Define the Variables\n",
    "BASE_DIR = os.getcwd()\n",
    "os.chdir(\"../\")\n",
    "path = os.getcwd() \n",
    "sys.path.append(path) # 폴더 한 단계 위에서 file import 하기 위해서 sys path 설정\n",
    "sys.path.append(f\"{path}/src\")\n",
    "sys.path.append(f\"{path}/src/Data_Generation\")\n",
    "\n",
    "from rts_data import generate_wind, generate_gen_dict\n",
    "from aggregator import aggregator\n",
    "from gurobiMILP import gurobi_MILP\n",
    "from draw_fig import Opt_Bid_Plot"
   ]
  },
  {
   "cell_type": "code",
   "execution_count": 3,
   "id": "e99ab94a",
   "metadata": {},
   "outputs": [],
   "source": [
    "### Parameters\n",
    "DRO_param = {'eps_joint_cvar' : 0.05}\n",
    "DRO_param['theta'] = 0.05\n",
    "\n",
    "# Vector for Bonferroni approximation\n",
    "rho_vectorC = np.linspace(0, 0.0025, 26)\n",
    "\n",
    "# Number of individual runs (number of coupled datasets in the numerical study)\n",
    "\n",
    "IR_max = 100\n",
    "IR_sim = 100\n",
    "\n",
    "# Number of out of sample data for each individual run (N') for testing\n",
    "# dataset\n",
    "\n",
    "OOS_max = 200\n",
    "OOS_sim = 100\n",
    "\n",
    "# Number of maximum sample size (N)\n",
    "\n",
    "N_max = 1000\n",
    "\n",
    "# Number of sample data in training dataset (N)\n",
    "\n",
    "N = 100;\n",
    "\n",
    "\n",
    "# Total number of data \n",
    "\n",
    "n_total_scen = IR_max * (N_max + OOS_max)"
   ]
  },
  {
   "cell_type": "code",
   "execution_count": 4,
   "id": "2d661e61",
   "metadata": {},
   "outputs": [],
   "source": [
    "# Define the Parameters\n",
    "\n",
    "# case_dict: Generate various scenario\n",
    "# res_var: Define the WT and PV as variables [True] or parameters [False]\n",
    "# case:\n",
    "    # case 1 : w/o uncertainty\n",
    "    # case 2 : w uncertainty with DRO\n",
    "    #UNIT_TIME: 1 -> 1 hour\n",
    "    \n",
    "case_dict = {'case':3, 'UNIT_TIME': 1, 'bid_type':'deterministic', 'n_total_scen': n_total_scen, 'N_max': N_max, 'OOS_max':OOS_max,\n",
    "             'IR_max': IR_max, 'N': N, 'OOS_sim': OOS_sim}\n",
    "\n",
    "case_dict['date'] = '20220911'\n",
    "\n",
    "nTimeslot = int(24 / case_dict['UNIT_TIME'])\n",
    "char_ess = {'initSOC':0.5, 'termSOC':0.5, 'minSOC':0.2, 'maxSOC':0.8, 'efficiency':0.95}\n",
    "\n",
    "\n",
    "model_dict = {'nVPP':1, 'path': path, 'N_PIECE': 10, 'nTimeslot': nTimeslot}\n",
    "\n",
    "# Once, set te PV, WT, SMP uncertainties identically in each time (PV: 5%, WT: 10%, SMP: 10%)\n",
    "uncertainty_dict = {'pv': np.ones(nTimeslot)*0.10 , 'wt': np.ones(nTimeslot)*0.10, 'smp':np.ones(nTimeslot)*0.10}\n",
    "\n",
    "\n",
    "if case_dict['case']==2:\n",
    "    \n",
    "    model_dict['uncertainty'] = uncertainty_dict\n",
    "    case_dict['bid_type'] = 'risky'\n",
    "    \n",
    "elif case_dict['case'] == 1:\n",
    "    \n",
    "    uncertainty_dict = {'pv': np.zeros(nTimeslot), 'wt': np.zeros(nTimeslot), 'smp':np.zeros(nTimeslot)}\n",
    "    model_dict['uncertainty'] = uncertainty_dict\n",
    "    "
   ]
  },
  {
   "cell_type": "code",
   "execution_count": 5,
   "id": "b1e932cb",
   "metadata": {},
   "outputs": [
    {
     "name": "stdout",
     "output_type": "stream",
     "text": [
      "Error\n",
      "'aggregator' object has no attribute 'wt_uncert'\n",
      "Aggregator set_res_table method\n",
      "Uncertainty does not exist\n"
     ]
    },
    {
     "data": {
      "text/html": [
       "<div>\n",
       "<style scoped>\n",
       "    .dataframe tbody tr th:only-of-type {\n",
       "        vertical-align: middle;\n",
       "    }\n",
       "\n",
       "    .dataframe tbody tr th {\n",
       "        vertical-align: top;\n",
       "    }\n",
       "\n",
       "    .dataframe thead th {\n",
       "        text-align: right;\n",
       "    }\n",
       "</style>\n",
       "<table border=\"1\" class=\"dataframe\">\n",
       "  <thead>\n",
       "    <tr style=\"text-align: right;\">\n",
       "      <th></th>\n",
       "      <th>name</th>\n",
       "      <th>type</th>\n",
       "      <th>number</th>\n",
       "      <th>min_power</th>\n",
       "      <th>max_power</th>\n",
       "    </tr>\n",
       "  </thead>\n",
       "  <tbody>\n",
       "    <tr>\n",
       "      <th>0</th>\n",
       "      <td>WT1_cvpp1</td>\n",
       "      <td>WT</td>\n",
       "      <td>1</td>\n",
       "      <td>0.0</td>\n",
       "      <td>800</td>\n",
       "    </tr>\n",
       "    <tr>\n",
       "      <th>1</th>\n",
       "      <td>WT2_cvpp1</td>\n",
       "      <td>WT</td>\n",
       "      <td>2</td>\n",
       "      <td>0.0</td>\n",
       "      <td>500</td>\n",
       "    </tr>\n",
       "    <tr>\n",
       "      <th>2</th>\n",
       "      <td>DG3_cvpp1</td>\n",
       "      <td>DG</td>\n",
       "      <td>3</td>\n",
       "      <td>40.0</td>\n",
       "      <td>400</td>\n",
       "    </tr>\n",
       "    <tr>\n",
       "      <th>3</th>\n",
       "      <td>DG3_cvpp1</td>\n",
       "      <td>DG</td>\n",
       "      <td>3</td>\n",
       "      <td>50.0</td>\n",
       "      <td>500</td>\n",
       "    </tr>\n",
       "  </tbody>\n",
       "</table>\n",
       "</div>"
      ],
      "text/plain": [
       "        name type  number  min_power  max_power\n",
       "0  WT1_cvpp1   WT       1        0.0        800\n",
       "1  WT2_cvpp1   WT       2        0.0        500\n",
       "2  DG3_cvpp1   DG       3       40.0        400\n",
       "3  DG3_cvpp1   DG       3       50.0        500"
      ]
     },
     "execution_count": 5,
     "metadata": {},
     "output_type": "execute_result"
    }
   ],
   "source": [
    "# Set Up VPP  #Unit: kW\n",
    "\n",
    "vpp_list = []\n",
    "for i in range(model_dict['nVPP']):\n",
    "    nGen_dict = {'WT':2,'PV':0, 'ESS':0, 'DG':2}\n",
    "    wt_list = [800, 500]\n",
    "    pv_list = [1000, 1200, 1500, 700]\n",
    "    ess_list = [1000]\n",
    "    capacity_list = [3000]\n",
    "    dg_list = [400, 500]\n",
    "    max_list = [wt_list, pv_list, ess_list, capacity_list, dg_list]\n",
    "    \n",
    "    dg_dict_list = []\n",
    "    for j in range(nGen_dict['DG']):\n",
    "        dg_dict_list.append(generate_gen_dict(j,dg_list[j], model_dict))\n",
    "    model_dict['dg_dict_list'] = dg_dict_list\n",
    "    \n",
    "    agg_dict = {'name': f'cvpp{i+1}', 'code': f'xds{i+1}', 'gen':nGen_dict}\n",
    "    vpp_list.append(aggregator(agg_dict, char_ess, model_dict, case_dict))\n",
    "    vpp_list[i].set_der_power(max_list)\n",
    "    vpp_list[i].set_smp_data(case_dict['date'])\n",
    "    \n",
    "vpp_list[0].get_res_table()"
   ]
  },
  {
   "cell_type": "code",
   "execution_count": 6,
   "id": "44611bb2",
   "metadata": {},
   "outputs": [
    {
     "name": "stdout",
     "output_type": "stream",
     "text": [
      "Assign P_dg in No uncertainty\n",
      "Does not Cosidered alpha\n",
      "Set parameter FeasibilityTol to value 0.0001\n",
      "Gurobi Optimizer version 10.0.1 build v10.0.1rc0 (win64)\n",
      "\n",
      "CPU model: 12th Gen Intel(R) Core(TM) i5-12400, instruction set [SSE2|AVX|AVX2]\n",
      "Thread count: 6 physical cores, 12 logical processors, using up to 12 threads\n",
      "\n",
      "Optimize a model with 9906 rows, 19872 columns and 34880 nonzeros\n",
      "Model fingerprint: 0xc6781254\n",
      "Model has 2400 general constraints\n",
      "Variable types: 19728 continuous, 144 integer (144 binary)\n",
      "Coefficient statistics:\n",
      "  Matrix range     [1e+00, 8e+02]\n",
      "  Objective range  [1e-02, 5e+03]\n",
      "  Bounds range     [1e-06, 1e+06]\n",
      "  RHS range        [1e+00, 2e+05]\n",
      "Presolve removed 9790 rows and 19562 columns\n",
      "Presolve time: 0.09s\n",
      "Presolved: 116 rows, 310 columns, 1368 nonzeros\n",
      "Variable types: 240 continuous, 70 integer (70 binary)\n",
      "Found heuristic solution: objective 1980623.3410\n",
      "\n",
      "Root relaxation: objective 1.991281e+06, 17 iterations, 0.00 seconds (0.00 work units)\n",
      "\n",
      "    Nodes    |    Current Node    |     Objective Bounds      |     Work\n",
      " Expl Unexpl |  Obj  Depth IntInf | Incumbent    BestBd   Gap | It/Node Time\n",
      "\n",
      "     0     0 1991281.19    0   21 1980623.34 1991281.19  0.54%     -    0s\n",
      "     0     0 1984049.81    0   10 1980623.34 1984049.81  0.17%     -    0s\n",
      "     0     0 1980659.42    0    6 1980623.34 1980659.42  0.00%     -    0s\n",
      "\n",
      "Cutting planes:\n",
      "  Gomory: 9\n",
      "  Implied bound: 70\n",
      "  Relax-and-lift: 3\n",
      "\n",
      "Explored 1 nodes (88 simplex iterations) in 0.11 seconds (0.09 work units)\n",
      "Thread count was 12 (of 12 available processors)\n",
      "\n",
      "Solution count 1: 1.98062e+06 \n",
      "\n",
      "Optimal solution found (tolerance 1.00e-04)\n",
      "Best objective 1.980623340967e+06, best bound 1.980659415488e+06, gap 0.0018%\n",
      "Optimization Duration Time: 0.12774085998535156\n",
      "Optimal Solution:\n"
     ]
    }
   ],
   "source": [
    "# Gurobi Optimization Model\n",
    "Wmax = vpp_list[0].wt_list[0].max_power \n",
    "Wmu = vpp_list[0].wt_list[0].profile_mu\n",
    "case_dict['theta'] = DRO_param['theta']* Wmu\n",
    "case_dict['theta'] = np.reshape(case_dict['theta'], -1)\n",
    "case_dict['eps'] = DRO_param['eps_joint_cvar']\n",
    "#case_dict['theta'] = np.array([0.05]*24)\n",
    "\n",
    "opt_bid = gurobi_MILP('opt bid', vpp_list[0], model_dict, case_dict)\n",
    "sol, obj_dict, P_dict, U_dict = opt_bid.optimize()"
   ]
  },
  {
   "cell_type": "code",
   "execution_count": 7,
   "id": "51e0b1d7",
   "metadata": {},
   "outputs": [
    {
     "name": "stdout",
     "output_type": "stream",
     "text": [
      "[ 176005.432081  175239.410501  154236.416176  154181.216125\n",
      "  153086.310022  160362.867283  185517.886585  184193.004031\n",
      "  173502.084122  169195.198270  132096.864561  131038.301037\n",
      "  163450.808478  164306.732419  167430.147052  175764.293262\n",
      "  272302.430492  296205.564339  296197.022308  296767.819967\n",
      "  296997.922434  295980.094346  295697.811001  202961.972824]\n",
      "[ 1433.120987  1417.858785  1290.812805  1298.791265  1263.794155\n",
      "  1262.795916  1458.581126  1417.815509  1353.325665  1258.467639\n",
      "  1035.509679  1002.938493  1059.840261  1070.945613  1164.004525\n",
      "  1293.055177  2121.736323  2331.894287  2331.354533  2347.255999\n",
      "  2355.997613  2324.679826  2315.994185  1630.337625]\n",
      "[ 0.000000  0.000000 -0.000000  0.000000  0.000000  0.000000  0.000000\n",
      "  0.000000 -0.000000 -0.000000  0.000000 -0.000000 -0.000000 -0.000000\n",
      "  0.000000  0.000000  0.000000  0.000000 -0.000000 -0.000000 -0.000000\n",
      "  0.000000  0.000000 -0.000000]\n"
     ]
    }
   ],
   "source": [
    "obj1 = obj_dict['obj1']\n",
    "print(obj1)\n",
    "\n",
    "try:\n",
    "    obj2 = obj_dict['obj2']\n",
    "    obj3 = obj_dict['obj3']\n",
    "    print(obj2)\n",
    "    print(obj3)\n",
    "except:\n",
    "    print(\"no obj2, obj3\")\n",
    "\n"
   ]
  },
  {
   "cell_type": "code",
   "execution_count": 8,
   "id": "dd892377",
   "metadata": {},
   "outputs": [
    {
     "name": "stdout",
     "output_type": "stream",
     "text": [
      "[[ 412.091397  357.963599  26.079117 ... -503.826133 -534.648441\n",
      "  -424.293620]\n",
      " [-394.280928 -384.658701 -342.085475 ... -671.480967 -649.904307\n",
      "  -454.598217]\n",
      " [-426.103626 -442.147805 -402.341162 ... -588.704202 -527.117760\n",
      "  -350.998974]\n",
      " ...\n",
      " [-224.712022 -146.778155 -126.780138 ... -373.193101 -392.962312\n",
      "  -293.050834]\n",
      " [-281.496495 -248.203348 -155.225469 ...  61.400100  0.880185\n",
      "   105.346765]\n",
      " [ 135.778807  103.493190  188.018342 ... -155.070555 -384.739294\n",
      "  -212.987858]]\n"
     ]
    }
   ],
   "source": [
    "obj3_full = obj_dict['obj3_full']\n",
    "print(obj3_full)"
   ]
  },
  {
   "cell_type": "code",
   "execution_count": 9,
   "id": "ef77ccc0",
   "metadata": {},
   "outputs": [
    {
     "data": {
      "text/plain": [
       "array([ 143.810000,  143.510000,  132.100000,  131.730000,  131.780000,\n",
       "        132.580000,  153.460000,  153.460000,  143.910000,  142.550000,\n",
       "        129.530000,  129.530000,  143.340000,  143.890000,  144.000000,\n",
       "        148.600000,  225.940000,  244.910000,  244.920000,  244.980000,\n",
       "        244.920000,  244.920000,  244.920000,  166.640000])"
      ]
     },
     "execution_count": 9,
     "metadata": {},
     "output_type": "execute_result"
    }
   ],
   "source": [
    "opt_bid.dayahead_smp"
   ]
  },
  {
   "cell_type": "code",
   "execution_count": 10,
   "id": "b83b66c5",
   "metadata": {},
   "outputs": [
    {
     "data": {
      "text/plain": [
       "array([ 116.473244,  117.928333,  119.383422,  120.838511,  122.293600,\n",
       "        123.748688,  125.203777,  126.658866,  128.113955,  129.569044])"
      ]
     },
     "execution_count": 10,
     "metadata": {},
     "output_type": "execute_result"
    }
   ],
   "source": [
    "vpp_list[0].dg_list[0].slopes * vpp_list[0].dg_list[0].fuel_cost"
   ]
  },
  {
   "cell_type": "code",
   "execution_count": 11,
   "id": "c5a903c1",
   "metadata": {},
   "outputs": [
    {
     "data": {
      "text/plain": [
       "array([ 114.032268,  116.072004,  118.111740,  120.151476,  122.191212,\n",
       "        124.230948,  126.270684,  128.310420,  130.350156,  132.389892])"
      ]
     },
     "execution_count": 11,
     "metadata": {},
     "output_type": "execute_result"
    }
   ],
   "source": [
    "vpp_list[0].dg_list[1].slopes * vpp_list[0].dg_list[1].fuel_cost"
   ]
  },
  {
   "cell_type": "code",
   "execution_count": 12,
   "id": "8fe309cc",
   "metadata": {},
   "outputs": [
    {
     "name": "stdout",
     "output_type": "stream",
     "text": [
      "57524.0\n",
      "57404.0\n",
      "52840.0\n",
      "52691.99999999999\n",
      "52712.0\n",
      "53032.00000000001\n",
      "61384.0\n",
      "61384.0\n",
      "57564.0\n",
      "57020.00000000001\n",
      "46630.8\n",
      "46630.8\n",
      "57336.0\n",
      "57555.99999999999\n",
      "57600.0\n",
      "59440.0\n",
      "90376.0\n",
      "97964.0\n",
      "97968.0\n",
      "97992.0\n",
      "97968.0\n",
      "97968.0\n",
      "97968.0\n",
      "66656.0\n"
     ]
    }
   ],
   "source": [
    "for i in range(24):\n",
    "    print(P_dict['sum_dg'][0,i] * opt_bid.dayahead_smp[i])"
   ]
  },
  {
   "cell_type": "code",
   "execution_count": 13,
   "id": "8fa458a9",
   "metadata": {},
   "outputs": [
    {
     "data": {
      "text/plain": [
       "array([[ 49208.457600,  49208.457600,  49208.457600,  49208.457600,\n",
       "         49208.457600,  49208.457600,  49208.457600,  49208.457600,\n",
       "         49208.457600,  49208.457600,  44025.695856,  44025.695856,\n",
       "         49208.457600,  49208.457600,  49208.457600,  49208.457600,\n",
       "         49208.457600,  49208.457600,  49208.457600,  49208.457600,\n",
       "         49208.457600,  49208.457600,  49208.457600,  49208.457600],\n",
       "       [ 61605.540000,  61605.540000,  54986.045400,  54986.045400,\n",
       "         54986.045400,  61605.540000,  61605.540000,  61605.540000,\n",
       "         61605.540000,  61605.540000,  48468.537600,  48468.537600,\n",
       "         61605.540000,  61605.540000,  61605.540000,  61605.540000,\n",
       "         61605.540000,  61605.540000,  61605.540000,  61605.540000,\n",
       "         61605.540000,  61605.540000,  61605.540000,  61605.540000]])"
      ]
     },
     "execution_count": 13,
     "metadata": {},
     "output_type": "execute_result"
    }
   ],
   "source": [
    "obj_dict['dg_sum']"
   ]
  },
  {
   "cell_type": "code",
   "execution_count": 14,
   "id": "93a0d9d8",
   "metadata": {},
   "outputs": [
    {
     "data": {
      "text/plain": [
       "array([[ 5211.240698,  5211.240698,  5211.240698,  5211.240698,\n",
       "         5211.240698,  5211.240698,  5211.240698,  5211.240698,\n",
       "         5211.240698,  5211.240698,  5211.240698,  5211.240698,\n",
       "         5211.240698,  5211.240698,  5211.240698,  5211.240698,\n",
       "         5211.240698,  5211.240698,  5211.240698,  5211.240698,\n",
       "         5211.240698,  5211.240698,  5211.240698,  5211.240698],\n",
       "       [ 5256.068904,  5256.068904,  5256.068904,  5256.068904,\n",
       "         5256.068904,  5256.068904,  5256.068904,  5256.068904,\n",
       "         5256.068904,  5256.068904,  5256.068904,  5256.068904,\n",
       "         5256.068904,  5256.068904,  5256.068904,  5256.068904,\n",
       "         5256.068904,  5256.068904,  5256.068904,  5256.068904,\n",
       "         5256.068904,  5256.068904,  5256.068904,  5256.068904]])"
      ]
     },
     "execution_count": 14,
     "metadata": {},
     "output_type": "execute_result"
    }
   ],
   "source": [
    "obj_dict['dg_susd']"
   ]
  },
  {
   "cell_type": "code",
   "execution_count": 15,
   "id": "617c67ec",
   "metadata": {},
   "outputs": [
    {
     "data": {
      "text/plain": [
       "array([[ 54419.698298,  54419.698298,  54419.698298,  54419.698298,\n",
       "         54419.698298,  54419.698298,  54419.698298,  54419.698298,\n",
       "         54419.698298,  54419.698298,  49236.936554,  49236.936554,\n",
       "         54419.698298,  54419.698298,  54419.698298,  54419.698298,\n",
       "         54419.698298,  54419.698298,  54419.698298,  54419.698298,\n",
       "         54419.698298,  54419.698298,  54419.698298,  54419.698298],\n",
       "       [ 66861.608904,  66861.608904,  60242.114304,  60242.114304,\n",
       "         60242.114304,  66861.608904,  66861.608904,  66861.608904,\n",
       "         66861.608904,  66861.608904,  53724.606504,  53724.606504,\n",
       "         66861.608904,  66861.608904,  66861.608904,  66861.608904,\n",
       "         66861.608904,  66861.608904,  66861.608904,  66861.608904,\n",
       "         66861.608904,  66861.608904,  66861.608904,  66861.608904]])"
      ]
     },
     "execution_count": 15,
     "metadata": {},
     "output_type": "execute_result"
    }
   ],
   "source": [
    "obj_dict['dg_cost']"
   ]
  },
  {
   "cell_type": "code",
   "execution_count": 16,
   "id": "ed1b60b8",
   "metadata": {},
   "outputs": [
    {
     "data": {
      "text/plain": [
       "[<aggregator.WT at 0x1f89b32e7d0>, <aggregator.WT at 0x1f89cdd01f0>]"
      ]
     },
     "execution_count": 16,
     "metadata": {},
     "output_type": "execute_result"
    }
   ],
   "source": [
    "opt_bid.wt_list"
   ]
  },
  {
   "cell_type": "code",
   "execution_count": 17,
   "id": "35c8aa9e",
   "metadata": {},
   "outputs": [],
   "source": [
    "res_list = opt_bid.wt_list + opt_bid.dg_list"
   ]
  },
  {
   "cell_type": "code",
   "execution_count": 18,
   "id": "bf41862e",
   "metadata": {},
   "outputs": [
    {
     "data": {
      "text/plain": [
       "[<aggregator.WT at 0x1f89b32e7d0>,\n",
       " <aggregator.WT at 0x1f89cdd01f0>,\n",
       " <aggregator.DG at 0x1f89cc401f0>,\n",
       " <aggregator.DG at 0x1f89cdfda50>]"
      ]
     },
     "execution_count": 18,
     "metadata": {},
     "output_type": "execute_result"
    }
   ],
   "source": [
    "res_list"
   ]
  },
  {
   "cell_type": "code",
   "execution_count": 22,
   "id": "2898453a",
   "metadata": {},
   "outputs": [
    {
     "data": {
      "text/plain": [
       "<aggregator.WT at 0x1f89b32e7d0>"
      ]
     },
     "execution_count": 22,
     "metadata": {},
     "output_type": "execute_result"
    }
   ],
   "source": [
    "res_list[0]"
   ]
  },
  {
   "cell_type": "code",
   "execution_count": 23,
   "id": "862d7ae4",
   "metadata": {},
   "outputs": [
    {
     "data": {
      "text/plain": [
       "<aggregator.WT at 0x1f89b32e7d0>"
      ]
     },
     "execution_count": 23,
     "metadata": {},
     "output_type": "execute_result"
    }
   ],
   "source": [
    "opt_bid.wt_list[0]"
   ]
  },
  {
   "cell_type": "code",
   "execution_count": null,
   "id": "f64721b0",
   "metadata": {},
   "outputs": [],
   "source": []
  }
 ],
 "metadata": {
  "kernelspec": {
   "display_name": "Python 3 (ipykernel)",
   "language": "python",
   "name": "python3"
  },
  "language_info": {
   "codemirror_mode": {
    "name": "ipython",
    "version": 3
   },
   "file_extension": ".py",
   "mimetype": "text/x-python",
   "name": "python",
   "nbconvert_exporter": "python",
   "pygments_lexer": "ipython3",
   "version": "3.10.9"
  }
 },
 "nbformat": 4,
 "nbformat_minor": 5
}
