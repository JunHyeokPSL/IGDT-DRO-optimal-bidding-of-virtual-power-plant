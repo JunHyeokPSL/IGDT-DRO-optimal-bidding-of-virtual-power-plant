{
 "cells": [
  {
   "cell_type": "code",
   "execution_count": 1,
   "id": "0898c91a",
   "metadata": {},
   "outputs": [],
   "source": [
    "import numpy as np"
   ]
  },
  {
   "cell_type": "code",
   "execution_count": 2,
   "id": "163e866c",
   "metadata": {},
   "outputs": [],
   "source": [
    "\n",
    "\n",
    "P = [100, 200, 300, 400, 500, 600, 700 , 800, 900, 1000]\n"
   ]
  },
  {
   "cell_type": "code",
   "execution_count": null,
   "id": "f060abf7",
   "metadata": {},
   "outputs": [],
   "source": [
    "cost_list = []\n",
    "for i in range(len(p)):\n",
    "    cost = (a*P[i]^2 + b*P[i] + c)/P[i]\n",
    "    print(cost)\n",
    "    cost_list.append(cost)\n"
   ]
  }
 ],
 "metadata": {
  "kernelspec": {
   "display_name": "Python 3 (ipykernel)",
   "language": "python",
   "name": "python3"
  },
  "language_info": {
   "codemirror_mode": {
    "name": "ipython",
    "version": 3
   },
   "file_extension": ".py",
   "mimetype": "text/x-python",
   "name": "python",
   "nbconvert_exporter": "python",
   "pygments_lexer": "ipython3",
   "version": "3.10.9"
  }
 },
 "nbformat": 4,
 "nbformat_minor": 5
}
