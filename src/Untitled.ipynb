{
 "cells": [
  {
   "cell_type": "code",
   "execution_count": 1,
   "id": "2321010a",
   "metadata": {},
   "outputs": [],
   "source": [
    "import numpy as np"
   ]
  },
  {
   "cell_type": "code",
   "execution_count": 2,
   "id": "a36e9448",
   "metadata": {},
   "outputs": [],
   "source": [
    "\n",
    "\n",
    "P = [100, 200, 300, 400, 500, 600, 700 , 800, 900, 1000]\n",
    "a = 0.00037\n",
    "b = 2.05\n",
    "c = 94.548705\n",
    "fuel_cost = 55.128"
   ]
  },
  {
   "cell_type": "code",
   "execution_count": 3,
   "id": "e564c1f5",
   "metadata": {},
   "outputs": [
    {
     "name": "stdout",
     "output_type": "stream",
     "text": [
      "167.1749460924\n",
      "143.1532770462\n",
      "136.5058780308\n",
      "134.2020465231\n",
      "133.63564201847998\n",
      "133.9379510154\n",
      "134.73666772748567\n",
      "135.84563926155\n",
      "137.1614473436\n",
      "138.62204100924\n"
     ]
    }
   ],
   "source": [
    "cost_list = []\n",
    "for i in range(len(P)):\n",
    "    cost = (a*P[i]**2 + b*P[i] + c)/P[i] * fuel_cost\n",
    "    print(cost)\n",
    "    cost_list.append(cost)\n"
   ]
  },
  {
   "cell_type": "code",
   "execution_count": 4,
   "id": "7dddbb92",
   "metadata": {},
   "outputs": [],
   "source": [
    "N_PIECE = 10\n",
    "max_power = 1000\n",
    "max_power_per_piece = max_power / N_PIECE\n",
    "slopes_dg_cost = np.zeros(N_PIECE)\n",
    "for i in range(N_PIECE):\n",
    "    slopes_dg_cost[i] = (c + b * (max_power_per_piece * (i + 1))\n",
    "                               + a * (max_power_per_piece * (i + 1)) ** 2\n",
    "                               - c - b * max_power_per_piece * i\n",
    "                               - a * (max_power_per_piece * i) ** 2) / max_power_per_piece"
   ]
  },
  {
   "cell_type": "code",
   "execution_count": 5,
   "id": "7607f5c6",
   "metadata": {},
   "outputs": [
    {
     "data": {
      "text/plain": [
       "array([2.087, 2.161, 2.235, 2.309, 2.383, 2.457, 2.531, 2.605, 2.679,\n",
       "       2.753])"
      ]
     },
     "execution_count": 5,
     "metadata": {},
     "output_type": "execute_result"
    }
   ],
   "source": [
    "slopes_dg_cost"
   ]
  },
  {
   "cell_type": "code",
   "execution_count": 6,
   "id": "b19b9768",
   "metadata": {},
   "outputs": [
    {
     "name": "stdout",
     "output_type": "stream",
     "text": [
      "115.05213599999999\n",
      "119.13160799999997\n",
      "123.21108\n",
      "127.290552\n",
      "131.3700240000001\n",
      "135.44949600000015\n",
      "139.528968\n",
      "143.60843999999997\n",
      "147.68791199999978\n",
      "151.76738400000013\n"
     ]
    }
   ],
   "source": [
    "for i in range(N_PIECE):\n",
    "    print(slopes_dg_cost[i] * fuel_cost)"
   ]
  },
  {
   "cell_type": "code",
   "execution_count": 36,
   "id": "4a4e69e0",
   "metadata": {},
   "outputs": [],
   "source": [
    "a = 0.00033\n",
    "b = 2.21\n",
    "c = 94.5487\n",
    "fuel_cost = 55.128"
   ]
  },
  {
   "cell_type": "code",
   "execution_count": 37,
   "id": "73b5bc82",
   "metadata": {},
   "outputs": [],
   "source": [
    "N_PIECE = 10\n",
    "max_power = 500\n",
    "max_power_per_piece = max_power / N_PIECE\n",
    "slopes_dg_cost = np.zeros(N_PIECE)\n",
    "for i in range(N_PIECE):\n",
    "    slopes_dg_cost[i] = (c + b * (max_power_per_piece * (i + 1))\n",
    "                               + a * (max_power_per_piece * (i + 1)) ** 2\n",
    "                               - c - b * max_power_per_piece * i\n",
    "                               - a * (max_power_per_piece * i) ** 2) / max_power_per_piece"
   ]
  },
  {
   "cell_type": "code",
   "execution_count": 38,
   "id": "b1e65514",
   "metadata": {},
   "outputs": [
    {
     "name": "stdout",
     "output_type": "stream",
     "text": [
      "122.74249199999998\n",
      "124.561716\n",
      "126.38094000000002\n",
      "128.20016400000011\n",
      "130.019388\n",
      "131.83861200000007\n",
      "133.65783599999995\n",
      "135.47705999999997\n",
      "137.29628400000004\n",
      "139.115508\n"
     ]
    }
   ],
   "source": [
    "for i in range(N_PIECE):\n",
    "    print(slopes_dg_cost[i] * fuel_cost)"
   ]
  },
  {
   "cell_type": "code",
   "execution_count": null,
   "id": "f9746edb",
   "metadata": {},
   "outputs": [],
   "source": []
  }
 ],
 "metadata": {
  "kernelspec": {
   "display_name": "Python 3 (ipykernel)",
   "language": "python",
   "name": "python3"
  },
  "language_info": {
   "codemirror_mode": {
    "name": "ipython",
    "version": 3
   },
   "file_extension": ".py",
   "mimetype": "text/x-python",
   "name": "python",
   "nbconvert_exporter": "python",
   "pygments_lexer": "ipython3",
   "version": "3.10.9"
  }
 },
 "nbformat": 4,
 "nbformat_minor": 5
}
